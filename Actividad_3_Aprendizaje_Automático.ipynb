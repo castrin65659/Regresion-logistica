{
  "nbformat": 4,
  "nbformat_minor": 0,
  "metadata": {
    "kernelspec": {
      "display_name": "Python 3",
      "language": "python",
      "name": "python3"
    },
    "language_info": {
      "codemirror_mode": {
        "name": "ipython",
        "version": 3
      },
      "file_extension": ".py",
      "mimetype": "text/x-python",
      "name": "python",
      "nbconvert_exporter": "python",
      "pygments_lexer": "ipython3",
      "version": "3.7.6"
    },
    "colab": {
      "provenance": []
    }
  },
  "cells": [
    {
      "cell_type": "markdown",
      "source": [
        "# Procesamiento de la base de datos Skin_NonSkin"
      ],
      "metadata": {
        "id": "PFtKgXFVaIxp"
      }
    },
    {
      "cell_type": "markdown",
      "metadata": {
        "id": "F-vDNc4QZ_HG"
      },
      "source": [
        "\n",
        "# Unidad 3 - Evaluación aprendizaje\n",
        "\n",
        "### Presentado por: \n",
        "### Oscar Javier Camargo Martínez\n",
        "### Camilo Castro Duarte\n",
        "### Diego Alejandro Becerra\n"
      ]
    },
    {
      "cell_type": "markdown",
      "source": [
        "A partir de los datos que se entregan en el enlace https://archive.ics.uci.edu/ml/datasets/skin+segmentation (archivo Skin_NonSkin.txt), realizar las etapas de preparación de los datos y modelado (usando un modelo de regresión logística). Luego realizar el test y aplicar la evaluación del modelo. Escribir el programa en lenguaje python desde google colab.\n",
        "\n",
        "La evaluación debe hacerse a partir de dos de los esquemas de validación presentados en la sección 11.5 de la lectura del momento de experiencia: “N-folds validation” con N=10 y “random subsampling” utilizando una partición 70/30, es decir, 70% de los datos para el train y el 30% restante para el test, con 10 repeticiones.La evaluación debe incluir\n"
      ],
      "metadata": {
        "id": "lBnJMau_bDCB"
      }
    },
    {
      "cell_type": "markdown",
      "source": [
        "## Dataset\n",
        "El conjunto de datos de la piel se recopila mediante un muestreo aleatorio de valores B, G, R de imágenes faciales de varios grupos de edad (jóvenes, medianos y mayores), grupos raciales (blanco, negro y asiático) y géneros obtenidos de la base de datos FERET y la base de datos PAL. . El tamaño total de la muestra de aprendizaje es 245057; de las cuales 50859 son muestras de piel y 194198 son muestras que no son de piel.\n",
        "\n",
        "Este conjunto de datos tiene la dimensión 245057 * 4, donde las tres primeras columnas son valores B, G, R (características x1, x2 y x3) y la cuarta columna es de las etiquetas de clase (variable de decisión y)."
      ],
      "metadata": {
        "id": "bEghu6WzcU_R"
      }
    },
    {
      "cell_type": "code",
      "metadata": {
        "id": "UJAoETnlZ_HI",
        "colab": {
          "base_uri": "https://localhost:8080/",
          "height": 206
        },
        "outputId": "bc68b3b7-2cd1-4c92-de16-f0a7c1c59b03"
      },
      "source": [
        "# Carga de librerías y lectura del archivo que contiene los datos\n",
        "\n",
        "import numpy as np\n",
        "import pandas as pd\n",
        "import sklearn as sk\n",
        "import seaborn as sns\n",
        "import matplotlib.pyplot as plt\n",
        "from sklearn.metrics import confusion_matrix, f1_score, roc_curve, precision_score, recall_score, accuracy_score, roc_auc_score\n",
        "from sklearn import metrics\n",
        "from mlxtend.plotting import plot_confusion_matrix\n",
        "\n",
        "\n",
        "#data = pd.read_csv(r'C:\\Users\\Camilo Castro\\Desktop\\Base python\\Skin_NonSkin.txt', delimiter='\\t')\n",
        "data = pd.read_csv(r'https://archive.ics.uci.edu/ml/machine-learning-databases/00229/Skin_NonSkin.txt', delimiter='\\t')\n",
        "\n",
        "\n",
        "# Se etiquetan las columnas para poder interpretar más fácilmente los datos.\n",
        "# Cada fila es un ejemplo, cada columna un atributo.\n",
        "# La columna llamada Piel es el atributo a predecir\n",
        "data.columns = ['B', 'G', 'R', 'Piel']\n",
        "data.head()"
      ],
      "execution_count": null,
      "outputs": [
        {
          "output_type": "execute_result",
          "data": {
            "text/plain": [
              "    B   G    R  Piel\n",
              "0  73  84  122     1\n",
              "1  72  83  121     1\n",
              "2  70  81  119     1\n",
              "3  70  81  119     1\n",
              "4  69  80  118     1"
            ],
            "text/html": [
              "\n",
              "  <div id=\"df-b00c969c-c7bc-4f58-a94c-4625261481fa\">\n",
              "    <div class=\"colab-df-container\">\n",
              "      <div>\n",
              "<style scoped>\n",
              "    .dataframe tbody tr th:only-of-type {\n",
              "        vertical-align: middle;\n",
              "    }\n",
              "\n",
              "    .dataframe tbody tr th {\n",
              "        vertical-align: top;\n",
              "    }\n",
              "\n",
              "    .dataframe thead th {\n",
              "        text-align: right;\n",
              "    }\n",
              "</style>\n",
              "<table border=\"1\" class=\"dataframe\">\n",
              "  <thead>\n",
              "    <tr style=\"text-align: right;\">\n",
              "      <th></th>\n",
              "      <th>B</th>\n",
              "      <th>G</th>\n",
              "      <th>R</th>\n",
              "      <th>Piel</th>\n",
              "    </tr>\n",
              "  </thead>\n",
              "  <tbody>\n",
              "    <tr>\n",
              "      <th>0</th>\n",
              "      <td>73</td>\n",
              "      <td>84</td>\n",
              "      <td>122</td>\n",
              "      <td>1</td>\n",
              "    </tr>\n",
              "    <tr>\n",
              "      <th>1</th>\n",
              "      <td>72</td>\n",
              "      <td>83</td>\n",
              "      <td>121</td>\n",
              "      <td>1</td>\n",
              "    </tr>\n",
              "    <tr>\n",
              "      <th>2</th>\n",
              "      <td>70</td>\n",
              "      <td>81</td>\n",
              "      <td>119</td>\n",
              "      <td>1</td>\n",
              "    </tr>\n",
              "    <tr>\n",
              "      <th>3</th>\n",
              "      <td>70</td>\n",
              "      <td>81</td>\n",
              "      <td>119</td>\n",
              "      <td>1</td>\n",
              "    </tr>\n",
              "    <tr>\n",
              "      <th>4</th>\n",
              "      <td>69</td>\n",
              "      <td>80</td>\n",
              "      <td>118</td>\n",
              "      <td>1</td>\n",
              "    </tr>\n",
              "  </tbody>\n",
              "</table>\n",
              "</div>\n",
              "      <button class=\"colab-df-convert\" onclick=\"convertToInteractive('df-b00c969c-c7bc-4f58-a94c-4625261481fa')\"\n",
              "              title=\"Convert this dataframe to an interactive table.\"\n",
              "              style=\"display:none;\">\n",
              "        \n",
              "  <svg xmlns=\"http://www.w3.org/2000/svg\" height=\"24px\"viewBox=\"0 0 24 24\"\n",
              "       width=\"24px\">\n",
              "    <path d=\"M0 0h24v24H0V0z\" fill=\"none\"/>\n",
              "    <path d=\"M18.56 5.44l.94 2.06.94-2.06 2.06-.94-2.06-.94-.94-2.06-.94 2.06-2.06.94zm-11 1L8.5 8.5l.94-2.06 2.06-.94-2.06-.94L8.5 2.5l-.94 2.06-2.06.94zm10 10l.94 2.06.94-2.06 2.06-.94-2.06-.94-.94-2.06-.94 2.06-2.06.94z\"/><path d=\"M17.41 7.96l-1.37-1.37c-.4-.4-.92-.59-1.43-.59-.52 0-1.04.2-1.43.59L10.3 9.45l-7.72 7.72c-.78.78-.78 2.05 0 2.83L4 21.41c.39.39.9.59 1.41.59.51 0 1.02-.2 1.41-.59l7.78-7.78 2.81-2.81c.8-.78.8-2.07 0-2.86zM5.41 20L4 18.59l7.72-7.72 1.47 1.35L5.41 20z\"/>\n",
              "  </svg>\n",
              "      </button>\n",
              "      \n",
              "  <style>\n",
              "    .colab-df-container {\n",
              "      display:flex;\n",
              "      flex-wrap:wrap;\n",
              "      gap: 12px;\n",
              "    }\n",
              "\n",
              "    .colab-df-convert {\n",
              "      background-color: #E8F0FE;\n",
              "      border: none;\n",
              "      border-radius: 50%;\n",
              "      cursor: pointer;\n",
              "      display: none;\n",
              "      fill: #1967D2;\n",
              "      height: 32px;\n",
              "      padding: 0 0 0 0;\n",
              "      width: 32px;\n",
              "    }\n",
              "\n",
              "    .colab-df-convert:hover {\n",
              "      background-color: #E2EBFA;\n",
              "      box-shadow: 0px 1px 2px rgba(60, 64, 67, 0.3), 0px 1px 3px 1px rgba(60, 64, 67, 0.15);\n",
              "      fill: #174EA6;\n",
              "    }\n",
              "\n",
              "    [theme=dark] .colab-df-convert {\n",
              "      background-color: #3B4455;\n",
              "      fill: #D2E3FC;\n",
              "    }\n",
              "\n",
              "    [theme=dark] .colab-df-convert:hover {\n",
              "      background-color: #434B5C;\n",
              "      box-shadow: 0px 1px 3px 1px rgba(0, 0, 0, 0.15);\n",
              "      filter: drop-shadow(0px 1px 2px rgba(0, 0, 0, 0.3));\n",
              "      fill: #FFFFFF;\n",
              "    }\n",
              "  </style>\n",
              "\n",
              "      <script>\n",
              "        const buttonEl =\n",
              "          document.querySelector('#df-b00c969c-c7bc-4f58-a94c-4625261481fa button.colab-df-convert');\n",
              "        buttonEl.style.display =\n",
              "          google.colab.kernel.accessAllowed ? 'block' : 'none';\n",
              "\n",
              "        async function convertToInteractive(key) {\n",
              "          const element = document.querySelector('#df-b00c969c-c7bc-4f58-a94c-4625261481fa');\n",
              "          const dataTable =\n",
              "            await google.colab.kernel.invokeFunction('convertToInteractive',\n",
              "                                                     [key], {});\n",
              "          if (!dataTable) return;\n",
              "\n",
              "          const docLinkHtml = 'Like what you see? Visit the ' +\n",
              "            '<a target=\"_blank\" href=https://colab.research.google.com/notebooks/data_table.ipynb>data table notebook</a>'\n",
              "            + ' to learn more about interactive tables.';\n",
              "          element.innerHTML = '';\n",
              "          dataTable['output_type'] = 'display_data';\n",
              "          await google.colab.output.renderOutput(dataTable, element);\n",
              "          const docLink = document.createElement('div');\n",
              "          docLink.innerHTML = docLinkHtml;\n",
              "          element.appendChild(docLink);\n",
              "        }\n",
              "      </script>\n",
              "    </div>\n",
              "  </div>\n",
              "  "
            ]
          },
          "metadata": {},
          "execution_count": 1
        }
      ]
    },
    {
      "cell_type": "code",
      "metadata": {
        "id": "PGb7IUB5Z_HJ",
        "colab": {
          "base_uri": "https://localhost:8080/"
        },
        "outputId": "c680887b-2106-4fec-e00d-8870b0ee8b13"
      },
      "source": [
        "#Cuál es el número de registros?\n",
        "#Cuál es el número de atributos?\n",
        "\n",
        "shape = data.shape\n",
        "shape"
      ],
      "execution_count": null,
      "outputs": [
        {
          "output_type": "execute_result",
          "data": {
            "text/plain": [
              "(245056, 4)"
            ]
          },
          "metadata": {},
          "execution_count": 2
        }
      ]
    },
    {
      "cell_type": "code",
      "metadata": {
        "id": "_FMC33uwZ_HK",
        "colab": {
          "base_uri": "https://localhost:8080/"
        },
        "outputId": "3f34066e-08f2-4385-958b-da26a698de2b"
      },
      "source": [
        "#Cual es el tipo de los atributos?\n",
        "data.dtypes"
      ],
      "execution_count": null,
      "outputs": [
        {
          "output_type": "execute_result",
          "data": {
            "text/plain": [
              "B       int64\n",
              "G       int64\n",
              "R       int64\n",
              "Piel    int64\n",
              "dtype: object"
            ]
          },
          "metadata": {},
          "execution_count": 3
        }
      ]
    },
    {
      "cell_type": "code",
      "metadata": {
        "id": "t2u4jkkvZ_HK",
        "colab": {
          "base_uri": "https://localhost:8080/",
          "height": 300
        },
        "outputId": "0cd2b910-bea7-4ddc-f324-e942d3a7518d"
      },
      "source": [
        "#Medida de centralidad y desviación para atributos numéricos:\n",
        "data.describe()"
      ],
      "execution_count": null,
      "outputs": [
        {
          "output_type": "execute_result",
          "data": {
            "text/plain": [
              "                   B              G              R           Piel\n",
              "count  245056.000000  245056.000000  245056.000000  245056.000000\n",
              "mean      125.065654     132.507521     123.177151       1.792464\n",
              "std        62.255694      59.941243      72.562313       0.405544\n",
              "min         0.000000       0.000000       0.000000       1.000000\n",
              "25%        68.000000      87.000000      70.000000       2.000000\n",
              "50%       139.000000     153.000000     128.000000       2.000000\n",
              "75%       176.000000     177.000000     164.000000       2.000000\n",
              "max       255.000000     255.000000     255.000000       2.000000"
            ],
            "text/html": [
              "\n",
              "  <div id=\"df-090791de-3e14-4182-a0bf-6bca1d4e7e21\">\n",
              "    <div class=\"colab-df-container\">\n",
              "      <div>\n",
              "<style scoped>\n",
              "    .dataframe tbody tr th:only-of-type {\n",
              "        vertical-align: middle;\n",
              "    }\n",
              "\n",
              "    .dataframe tbody tr th {\n",
              "        vertical-align: top;\n",
              "    }\n",
              "\n",
              "    .dataframe thead th {\n",
              "        text-align: right;\n",
              "    }\n",
              "</style>\n",
              "<table border=\"1\" class=\"dataframe\">\n",
              "  <thead>\n",
              "    <tr style=\"text-align: right;\">\n",
              "      <th></th>\n",
              "      <th>B</th>\n",
              "      <th>G</th>\n",
              "      <th>R</th>\n",
              "      <th>Piel</th>\n",
              "    </tr>\n",
              "  </thead>\n",
              "  <tbody>\n",
              "    <tr>\n",
              "      <th>count</th>\n",
              "      <td>245056.000000</td>\n",
              "      <td>245056.000000</td>\n",
              "      <td>245056.000000</td>\n",
              "      <td>245056.000000</td>\n",
              "    </tr>\n",
              "    <tr>\n",
              "      <th>mean</th>\n",
              "      <td>125.065654</td>\n",
              "      <td>132.507521</td>\n",
              "      <td>123.177151</td>\n",
              "      <td>1.792464</td>\n",
              "    </tr>\n",
              "    <tr>\n",
              "      <th>std</th>\n",
              "      <td>62.255694</td>\n",
              "      <td>59.941243</td>\n",
              "      <td>72.562313</td>\n",
              "      <td>0.405544</td>\n",
              "    </tr>\n",
              "    <tr>\n",
              "      <th>min</th>\n",
              "      <td>0.000000</td>\n",
              "      <td>0.000000</td>\n",
              "      <td>0.000000</td>\n",
              "      <td>1.000000</td>\n",
              "    </tr>\n",
              "    <tr>\n",
              "      <th>25%</th>\n",
              "      <td>68.000000</td>\n",
              "      <td>87.000000</td>\n",
              "      <td>70.000000</td>\n",
              "      <td>2.000000</td>\n",
              "    </tr>\n",
              "    <tr>\n",
              "      <th>50%</th>\n",
              "      <td>139.000000</td>\n",
              "      <td>153.000000</td>\n",
              "      <td>128.000000</td>\n",
              "      <td>2.000000</td>\n",
              "    </tr>\n",
              "    <tr>\n",
              "      <th>75%</th>\n",
              "      <td>176.000000</td>\n",
              "      <td>177.000000</td>\n",
              "      <td>164.000000</td>\n",
              "      <td>2.000000</td>\n",
              "    </tr>\n",
              "    <tr>\n",
              "      <th>max</th>\n",
              "      <td>255.000000</td>\n",
              "      <td>255.000000</td>\n",
              "      <td>255.000000</td>\n",
              "      <td>2.000000</td>\n",
              "    </tr>\n",
              "  </tbody>\n",
              "</table>\n",
              "</div>\n",
              "      <button class=\"colab-df-convert\" onclick=\"convertToInteractive('df-090791de-3e14-4182-a0bf-6bca1d4e7e21')\"\n",
              "              title=\"Convert this dataframe to an interactive table.\"\n",
              "              style=\"display:none;\">\n",
              "        \n",
              "  <svg xmlns=\"http://www.w3.org/2000/svg\" height=\"24px\"viewBox=\"0 0 24 24\"\n",
              "       width=\"24px\">\n",
              "    <path d=\"M0 0h24v24H0V0z\" fill=\"none\"/>\n",
              "    <path d=\"M18.56 5.44l.94 2.06.94-2.06 2.06-.94-2.06-.94-.94-2.06-.94 2.06-2.06.94zm-11 1L8.5 8.5l.94-2.06 2.06-.94-2.06-.94L8.5 2.5l-.94 2.06-2.06.94zm10 10l.94 2.06.94-2.06 2.06-.94-2.06-.94-.94-2.06-.94 2.06-2.06.94z\"/><path d=\"M17.41 7.96l-1.37-1.37c-.4-.4-.92-.59-1.43-.59-.52 0-1.04.2-1.43.59L10.3 9.45l-7.72 7.72c-.78.78-.78 2.05 0 2.83L4 21.41c.39.39.9.59 1.41.59.51 0 1.02-.2 1.41-.59l7.78-7.78 2.81-2.81c.8-.78.8-2.07 0-2.86zM5.41 20L4 18.59l7.72-7.72 1.47 1.35L5.41 20z\"/>\n",
              "  </svg>\n",
              "      </button>\n",
              "      \n",
              "  <style>\n",
              "    .colab-df-container {\n",
              "      display:flex;\n",
              "      flex-wrap:wrap;\n",
              "      gap: 12px;\n",
              "    }\n",
              "\n",
              "    .colab-df-convert {\n",
              "      background-color: #E8F0FE;\n",
              "      border: none;\n",
              "      border-radius: 50%;\n",
              "      cursor: pointer;\n",
              "      display: none;\n",
              "      fill: #1967D2;\n",
              "      height: 32px;\n",
              "      padding: 0 0 0 0;\n",
              "      width: 32px;\n",
              "    }\n",
              "\n",
              "    .colab-df-convert:hover {\n",
              "      background-color: #E2EBFA;\n",
              "      box-shadow: 0px 1px 2px rgba(60, 64, 67, 0.3), 0px 1px 3px 1px rgba(60, 64, 67, 0.15);\n",
              "      fill: #174EA6;\n",
              "    }\n",
              "\n",
              "    [theme=dark] .colab-df-convert {\n",
              "      background-color: #3B4455;\n",
              "      fill: #D2E3FC;\n",
              "    }\n",
              "\n",
              "    [theme=dark] .colab-df-convert:hover {\n",
              "      background-color: #434B5C;\n",
              "      box-shadow: 0px 1px 3px 1px rgba(0, 0, 0, 0.15);\n",
              "      filter: drop-shadow(0px 1px 2px rgba(0, 0, 0, 0.3));\n",
              "      fill: #FFFFFF;\n",
              "    }\n",
              "  </style>\n",
              "\n",
              "      <script>\n",
              "        const buttonEl =\n",
              "          document.querySelector('#df-090791de-3e14-4182-a0bf-6bca1d4e7e21 button.colab-df-convert');\n",
              "        buttonEl.style.display =\n",
              "          google.colab.kernel.accessAllowed ? 'block' : 'none';\n",
              "\n",
              "        async function convertToInteractive(key) {\n",
              "          const element = document.querySelector('#df-090791de-3e14-4182-a0bf-6bca1d4e7e21');\n",
              "          const dataTable =\n",
              "            await google.colab.kernel.invokeFunction('convertToInteractive',\n",
              "                                                     [key], {});\n",
              "          if (!dataTable) return;\n",
              "\n",
              "          const docLinkHtml = 'Like what you see? Visit the ' +\n",
              "            '<a target=\"_blank\" href=https://colab.research.google.com/notebooks/data_table.ipynb>data table notebook</a>'\n",
              "            + ' to learn more about interactive tables.';\n",
              "          element.innerHTML = '';\n",
              "          dataTable['output_type'] = 'display_data';\n",
              "          await google.colab.output.renderOutput(dataTable, element);\n",
              "          const docLink = document.createElement('div');\n",
              "          docLink.innerHTML = docLinkHtml;\n",
              "          element.appendChild(docLink);\n",
              "        }\n",
              "      </script>\n",
              "    </div>\n",
              "  </div>\n",
              "  "
            ]
          },
          "metadata": {},
          "execution_count": 4
        }
      ]
    },
    {
      "cell_type": "code",
      "metadata": {
        "id": "OmmyXMR8Z_HK",
        "colab": {
          "base_uri": "https://localhost:8080/",
          "height": 430
        },
        "outputId": "c3519856-3f32-4bbb-c638-e6c49060bb87"
      },
      "source": [
        "# Diagrama de cajas y bigotes para atributos numéricos\n",
        "# Permite identificar la existencia de datos atípicos\n",
        "\n",
        "plt.boxplot((data['B'],data['G'],data['R']))\n",
        "plt.show()"
      ],
      "execution_count": null,
      "outputs": [
        {
          "output_type": "display_data",
          "data": {
            "text/plain": [
              "<Figure size 640x480 with 1 Axes>"
            ],
            "image/png": "[encoded data removed]"
          },
          "metadata": {}
        }
      ]
    },
    {
      "cell_type": "code",
      "source": [
        "data_numericas = data.select_dtypes(include = ['int64'])"
      ],
      "metadata": {
        "id": "YJiX6QQGU21N"
      },
      "execution_count": null,
      "outputs": []
    },
    {
      "cell_type": "code",
      "source": [
        "for i in (data_numericas.columns):\n",
        "    plt.boxplot(data_numericas[i], patch_artist=True)\n",
        "    plt.title(\"Boxplot de \" + i)\n",
        "    plt.show()"
      ],
      "metadata": {
        "colab": {
          "base_uri": "https://localhost:8080/",
          "height": 1000
        },
        "id": "Hu7q3XEfU7es",
        "outputId": "04659b01-7b50-4768-c6c8-e4216fb691bc"
      },
      "execution_count": null,
      "outputs": [
        {
          "output_type": "display_data",
          "data": {
            "text/plain": [
              "<Figure size 640x480 with 1 Axes>"
            ],
            "image/png": "[encoded data removed]"
          },
          "metadata": {}
        },
        {
          "output_type": "display_data",
          "data": {
            "text/plain": [
              "<Figure size 640x480 with 1 Axes>"
            ],
            "image/png": "[encoded data removed]"
          },
          "metadata": {}
        },
        {
          "output_type": "display_data",
          "data": {
            "text/plain": [
              "<Figure size 640x480 with 1 Axes>"
            ],
            "image/png": "[encoded data removed]"
          },
          "metadata": {}
        },
        {
          "output_type": "display_data",
          "data": {
            "text/plain": [
              "<Figure size 640x480 with 1 Axes>"
            ],
            "image/png": "[encoded data removed]"
          },
          "metadata": {}
        }
      ]
    },
    {
      "cell_type": "code",
      "metadata": {
        "id": "k35vMNxmZ_HL",
        "colab": {
          "base_uri": "https://localhost:8080/",
          "height": 81
        },
        "outputId": "8d31a3fd-3693-496d-97d2-b5adc4eb9a42"
      },
      "source": [
        "#Medida de centralidad para atributos categóricos:\n",
        "data.mode()"
      ],
      "execution_count": null,
      "outputs": [
        {
          "output_type": "execute_result",
          "data": {
            "text/plain": [
              "     B    G  R  Piel\n",
              "0  178  178  0     2"
            ],
            "text/html": [
              "\n",
              "  <div id=\"df-f90f59ab-c1c3-4869-b647-b60412ff4273\">\n",
              "    <div class=\"colab-df-container\">\n",
              "      <div>\n",
              "<style scoped>\n",
              "    .dataframe tbody tr th:only-of-type {\n",
              "        vertical-align: middle;\n",
              "    }\n",
              "\n",
              "    .dataframe tbody tr th {\n",
              "        vertical-align: top;\n",
              "    }\n",
              "\n",
              "    .dataframe thead th {\n",
              "        text-align: right;\n",
              "    }\n",
              "</style>\n",
              "<table border=\"1\" class=\"dataframe\">\n",
              "  <thead>\n",
              "    <tr style=\"text-align: right;\">\n",
              "      <th></th>\n",
              "      <th>B</th>\n",
              "      <th>G</th>\n",
              "      <th>R</th>\n",
              "      <th>Piel</th>\n",
              "    </tr>\n",
              "  </thead>\n",
              "  <tbody>\n",
              "    <tr>\n",
              "      <th>0</th>\n",
              "      <td>178</td>\n",
              "      <td>178</td>\n",
              "      <td>0</td>\n",
              "      <td>2</td>\n",
              "    </tr>\n",
              "  </tbody>\n",
              "</table>\n",
              "</div>\n",
              "      <button class=\"colab-df-convert\" onclick=\"convertToInteractive('df-f90f59ab-c1c3-4869-b647-b60412ff4273')\"\n",
              "              title=\"Convert this dataframe to an interactive table.\"\n",
              "              style=\"display:none;\">\n",
              "        \n",
              "  <svg xmlns=\"http://www.w3.org/2000/svg\" height=\"24px\"viewBox=\"0 0 24 24\"\n",
              "       width=\"24px\">\n",
              "    <path d=\"M0 0h24v24H0V0z\" fill=\"none\"/>\n",
              "    <path d=\"M18.56 5.44l.94 2.06.94-2.06 2.06-.94-2.06-.94-.94-2.06-.94 2.06-2.06.94zm-11 1L8.5 8.5l.94-2.06 2.06-.94-2.06-.94L8.5 2.5l-.94 2.06-2.06.94zm10 10l.94 2.06.94-2.06 2.06-.94-2.06-.94-.94-2.06-.94 2.06-2.06.94z\"/><path d=\"M17.41 7.96l-1.37-1.37c-.4-.4-.92-.59-1.43-.59-.52 0-1.04.2-1.43.59L10.3 9.45l-7.72 7.72c-.78.78-.78 2.05 0 2.83L4 21.41c.39.39.9.59 1.41.59.51 0 1.02-.2 1.41-.59l7.78-7.78 2.81-2.81c.8-.78.8-2.07 0-2.86zM5.41 20L4 18.59l7.72-7.72 1.47 1.35L5.41 20z\"/>\n",
              "  </svg>\n",
              "      </button>\n",
              "      \n",
              "  <style>\n",
              "    .colab-df-container {\n",
              "      display:flex;\n",
              "      flex-wrap:wrap;\n",
              "      gap: 12px;\n",
              "    }\n",
              "\n",
              "    .colab-df-convert {\n",
              "      background-color: #E8F0FE;\n",
              "      border: none;\n",
              "      border-radius: 50%;\n",
              "      cursor: pointer;\n",
              "      display: none;\n",
              "      fill: #1967D2;\n",
              "      height: 32px;\n",
              "      padding: 0 0 0 0;\n",
              "      width: 32px;\n",
              "    }\n",
              "\n",
              "    .colab-df-convert:hover {\n",
              "      background-color: #E2EBFA;\n",
              "      box-shadow: 0px 1px 2px rgba(60, 64, 67, 0.3), 0px 1px 3px 1px rgba(60, 64, 67, 0.15);\n",
              "      fill: #174EA6;\n",
              "    }\n",
              "\n",
              "    [theme=dark] .colab-df-convert {\n",
              "      background-color: #3B4455;\n",
              "      fill: #D2E3FC;\n",
              "    }\n",
              "\n",
              "    [theme=dark] .colab-df-convert:hover {\n",
              "      background-color: #434B5C;\n",
              "      box-shadow: 0px 1px 3px 1px rgba(0, 0, 0, 0.15);\n",
              "      filter: drop-shadow(0px 1px 2px rgba(0, 0, 0, 0.3));\n",
              "      fill: #FFFFFF;\n",
              "    }\n",
              "  </style>\n",
              "\n",
              "      <script>\n",
              "        const buttonEl =\n",
              "          document.querySelector('#df-f90f59ab-c1c3-4869-b647-b60412ff4273 button.colab-df-convert');\n",
              "        buttonEl.style.display =\n",
              "          google.colab.kernel.accessAllowed ? 'block' : 'none';\n",
              "\n",
              "        async function convertToInteractive(key) {\n",
              "          const element = document.querySelector('#df-f90f59ab-c1c3-4869-b647-b60412ff4273');\n",
              "          const dataTable =\n",
              "            await google.colab.kernel.invokeFunction('convertToInteractive',\n",
              "                                                     [key], {});\n",
              "          if (!dataTable) return;\n",
              "\n",
              "          const docLinkHtml = 'Like what you see? Visit the ' +\n",
              "            '<a target=\"_blank\" href=https://colab.research.google.com/notebooks/data_table.ipynb>data table notebook</a>'\n",
              "            + ' to learn more about interactive tables.';\n",
              "          element.innerHTML = '';\n",
              "          dataTable['output_type'] = 'display_data';\n",
              "          await google.colab.output.renderOutput(dataTable, element);\n",
              "          const docLink = document.createElement('div');\n",
              "          docLink.innerHTML = docLinkHtml;\n",
              "          element.appendChild(docLink);\n",
              "        }\n",
              "      </script>\n",
              "    </div>\n",
              "  </div>\n",
              "  "
            ]
          },
          "metadata": {},
          "execution_count": 45
        }
      ]
    },
    {
      "cell_type": "code",
      "metadata": {
        "id": "R8GZWvmIZ_HL",
        "colab": {
          "base_uri": "https://localhost:8080/",
          "height": 175
        },
        "outputId": "e421e381-0e06-4d8d-e26f-3720ad717484"
      },
      "source": [
        "# Correlación entre los atributos de entrada numéricos\n",
        "# Permite detectar si hay atributos redundantes (correlación mayor a 0.85 o menor a -0.85)\n",
        "data.corr()"
      ],
      "execution_count": null,
      "outputs": [
        {
          "output_type": "execute_result",
          "data": {
            "text/plain": [
              "             B         G         R      Piel\n",
              "B     1.000000  0.855250  0.496377  0.092024\n",
              "G     0.855250  1.000000  0.660099 -0.120335\n",
              "R     0.496377  0.660099  1.000000 -0.569963\n",
              "Piel  0.092024 -0.120335 -0.569963  1.000000"
            ],
            "text/html": [
              "\n",
              "  <div id=\"df-bf1f686e-bb2d-4e85-9f4a-c9cd12416799\">\n",
              "    <div class=\"colab-df-container\">\n",
              "      <div>\n",
              "<style scoped>\n",
              "    .dataframe tbody tr th:only-of-type {\n",
              "        vertical-align: middle;\n",
              "    }\n",
              "\n",
              "    .dataframe tbody tr th {\n",
              "        vertical-align: top;\n",
              "    }\n",
              "\n",
              "    .dataframe thead th {\n",
              "        text-align: right;\n",
              "    }\n",
              "</style>\n",
              "<table border=\"1\" class=\"dataframe\">\n",
              "  <thead>\n",
              "    <tr style=\"text-align: right;\">\n",
              "      <th></th>\n",
              "      <th>B</th>\n",
              "      <th>G</th>\n",
              "      <th>R</th>\n",
              "      <th>Piel</th>\n",
              "    </tr>\n",
              "  </thead>\n",
              "  <tbody>\n",
              "    <tr>\n",
              "      <th>B</th>\n",
              "      <td>1.000000</td>\n",
              "      <td>0.855250</td>\n",
              "      <td>0.496377</td>\n",
              "      <td>0.092024</td>\n",
              "    </tr>\n",
              "    <tr>\n",
              "      <th>G</th>\n",
              "      <td>0.855250</td>\n",
              "      <td>1.000000</td>\n",
              "      <td>0.660099</td>\n",
              "      <td>-0.120335</td>\n",
              "    </tr>\n",
              "    <tr>\n",
              "      <th>R</th>\n",
              "      <td>0.496377</td>\n",
              "      <td>0.660099</td>\n",
              "      <td>1.000000</td>\n",
              "      <td>-0.569963</td>\n",
              "    </tr>\n",
              "    <tr>\n",
              "      <th>Piel</th>\n",
              "      <td>0.092024</td>\n",
              "      <td>-0.120335</td>\n",
              "      <td>-0.569963</td>\n",
              "      <td>1.000000</td>\n",
              "    </tr>\n",
              "  </tbody>\n",
              "</table>\n",
              "</div>\n",
              "      <button class=\"colab-df-convert\" onclick=\"convertToInteractive('df-bf1f686e-bb2d-4e85-9f4a-c9cd12416799')\"\n",
              "              title=\"Convert this dataframe to an interactive table.\"\n",
              "              style=\"display:none;\">\n",
              "        \n",
              "  <svg xmlns=\"http://www.w3.org/2000/svg\" height=\"24px\"viewBox=\"0 0 24 24\"\n",
              "       width=\"24px\">\n",
              "    <path d=\"M0 0h24v24H0V0z\" fill=\"none\"/>\n",
              "    <path d=\"M18.56 5.44l.94 2.06.94-2.06 2.06-.94-2.06-.94-.94-2.06-.94 2.06-2.06.94zm-11 1L8.5 8.5l.94-2.06 2.06-.94-2.06-.94L8.5 2.5l-.94 2.06-2.06.94zm10 10l.94 2.06.94-2.06 2.06-.94-2.06-.94-.94-2.06-.94 2.06-2.06.94z\"/><path d=\"M17.41 7.96l-1.37-1.37c-.4-.4-.92-.59-1.43-.59-.52 0-1.04.2-1.43.59L10.3 9.45l-7.72 7.72c-.78.78-.78 2.05 0 2.83L4 21.41c.39.39.9.59 1.41.59.51 0 1.02-.2 1.41-.59l7.78-7.78 2.81-2.81c.8-.78.8-2.07 0-2.86zM5.41 20L4 18.59l7.72-7.72 1.47 1.35L5.41 20z\"/>\n",
              "  </svg>\n",
              "      </button>\n",
              "      \n",
              "  <style>\n",
              "    .colab-df-container {\n",
              "      display:flex;\n",
              "      flex-wrap:wrap;\n",
              "      gap: 12px;\n",
              "    }\n",
              "\n",
              "    .colab-df-convert {\n",
              "      background-color: #E8F0FE;\n",
              "      border: none;\n",
              "      border-radius: 50%;\n",
              "      cursor: pointer;\n",
              "      display: none;\n",
              "      fill: #1967D2;\n",
              "      height: 32px;\n",
              "      padding: 0 0 0 0;\n",
              "      width: 32px;\n",
              "    }\n",
              "\n",
              "    .colab-df-convert:hover {\n",
              "      background-color: #E2EBFA;\n",
              "      box-shadow: 0px 1px 2px rgba(60, 64, 67, 0.3), 0px 1px 3px 1px rgba(60, 64, 67, 0.15);\n",
              "      fill: #174EA6;\n",
              "    }\n",
              "\n",
              "    [theme=dark] .colab-df-convert {\n",
              "      background-color: #3B4455;\n",
              "      fill: #D2E3FC;\n",
              "    }\n",
              "\n",
              "    [theme=dark] .colab-df-convert:hover {\n",
              "      background-color: #434B5C;\n",
              "      box-shadow: 0px 1px 3px 1px rgba(0, 0, 0, 0.15);\n",
              "      filter: drop-shadow(0px 1px 2px rgba(0, 0, 0, 0.3));\n",
              "      fill: #FFFFFF;\n",
              "    }\n",
              "  </style>\n",
              "\n",
              "      <script>\n",
              "        const buttonEl =\n",
              "          document.querySelector('#df-bf1f686e-bb2d-4e85-9f4a-c9cd12416799 button.colab-df-convert');\n",
              "        buttonEl.style.display =\n",
              "          google.colab.kernel.accessAllowed ? 'block' : 'none';\n",
              "\n",
              "        async function convertToInteractive(key) {\n",
              "          const element = document.querySelector('#df-bf1f686e-bb2d-4e85-9f4a-c9cd12416799');\n",
              "          const dataTable =\n",
              "            await google.colab.kernel.invokeFunction('convertToInteractive',\n",
              "                                                     [key], {});\n",
              "          if (!dataTable) return;\n",
              "\n",
              "          const docLinkHtml = 'Like what you see? Visit the ' +\n",
              "            '<a target=\"_blank\" href=https://colab.research.google.com/notebooks/data_table.ipynb>data table notebook</a>'\n",
              "            + ' to learn more about interactive tables.';\n",
              "          element.innerHTML = '';\n",
              "          dataTable['output_type'] = 'display_data';\n",
              "          await google.colab.output.renderOutput(dataTable, element);\n",
              "          const docLink = document.createElement('div');\n",
              "          docLink.innerHTML = docLinkHtml;\n",
              "          element.appendChild(docLink);\n",
              "        }\n",
              "      </script>\n",
              "    </div>\n",
              "  </div>\n",
              "  "
            ]
          },
          "metadata": {},
          "execution_count": 46
        }
      ]
    },
    {
      "cell_type": "code",
      "source": [
        "sns.heatmap(data.corr(), square=True, annot=True)"
      ],
      "metadata": {
        "colab": {
          "base_uri": "https://localhost:8080/",
          "height": 452
        },
        "id": "7BbH2R6cVRIc",
        "outputId": "3b795ee9-60d3-4a24-aca4-afa75548ee5f"
      },
      "execution_count": null,
      "outputs": [
        {
          "output_type": "execute_result",
          "data": {
            "text/plain": [
              "<Axes: >"
            ]
          },
          "metadata": {},
          "execution_count": 47
        },
        {
          "output_type": "display_data",
          "data": {
            "text/plain": [
              "<Figure size 640x480 with 2 Axes>"
            ],
            "image/png": "[encoded data removed]"
          },
          "metadata": {}
        }
      ]
    },
    {
      "cell_type": "code",
      "metadata": {
        "id": "wc6W_v3yZ_HM",
        "colab": {
          "base_uri": "https://localhost:8080/"
        },
        "outputId": "860c5b0d-3b15-43a3-b59f-6759a91b2d27"
      },
      "source": [
        "# Cual es el máximo de datos faltantes en un mismo registro?, o mas bien, cuantos atributos tienen datos faltantes\n",
        "# Si hay registros a los que les faltan muchos valores, es mejor eliminarlos.\n",
        "max(data.isnull().sum(axis=1))"
      ],
      "execution_count": null,
      "outputs": [
        {
          "output_type": "execute_result",
          "data": {
            "text/plain": [
              "0"
            ]
          },
          "metadata": {},
          "execution_count": 48
        }
      ]
    },
    {
      "cell_type": "code",
      "metadata": {
        "id": "NcSAkgvnZ_HN",
        "colab": {
          "base_uri": "https://localhost:8080/"
        },
        "outputId": "229a0a84-349a-4c79-8ccf-e29723e6a776"
      },
      "source": [
        "#Cuantos datos faltantes hay por cada atributo?\n",
        "data.isnull().sum()"
      ],
      "execution_count": null,
      "outputs": [
        {
          "output_type": "execute_result",
          "data": {
            "text/plain": [
              "B       0\n",
              "G       0\n",
              "R       0\n",
              "Piel    0\n",
              "dtype: int64"
            ]
          },
          "metadata": {},
          "execution_count": 49
        }
      ]
    },
    {
      "cell_type": "code",
      "metadata": {
        "id": "7fxcufnEZ_HN",
        "colab": {
          "base_uri": "https://localhost:8080/"
        },
        "outputId": "9e4c2417-697d-4d10-aa2d-04902e9a9262"
      },
      "source": [
        "#Cuantos registros hay por cada clase? es decir, por cada valor del atributo de salida?\n",
        "\n",
        "print(data['Piel'].value_counts())"
      ],
      "execution_count": null,
      "outputs": [
        {
          "output_type": "stream",
          "name": "stdout",
          "text": [
            "2    194198\n",
            "1     50858\n",
            "Name: Piel, dtype: int64\n"
          ]
        }
      ]
    },
    {
      "cell_type": "markdown",
      "metadata": {
        "id": "P_0pYcP0gFq8"
      },
      "source": [
        "## Etapa 2: Preparación de los datos\n",
        "De acuerdo a lo observado en la etapa 1, se define una secuencia de actividades que modifican los datos para eliminar las situaciones que puedan ser causa de fallo o deficiencia en el proceso de aprendizaje. En este caso se van a realizar las siguientes actividades:\n",
        "\n",
        "\n",
        "\n",
        "\n",
        "\n",
        "\n",
        "\n"
      ]
    },
    {
      "cell_type": "markdown",
      "source": [
        "1.   Eliminar del modelo el atributo **G** dado que tiene una correlación bastante alta con **B** y está algo correlacionado con **R**."
      ],
      "metadata": {
        "id": "RHyCYwjFaqbz"
      }
    },
    {
      "cell_type": "code",
      "source": [
        "data = data.drop(['G'], axis = 1)\n",
        "data.head(5)"
      ],
      "metadata": {
        "colab": {
          "base_uri": "https://localhost:8080/",
          "height": 206
        },
        "id": "uVl31bHQa5sK",
        "outputId": "29d2be58-9ff1-42f3-a0e6-da89fa711d31"
      },
      "execution_count": null,
      "outputs": [
        {
          "output_type": "execute_result",
          "data": {
            "text/plain": [
              "    B    R  Piel\n",
              "0  73  122     1\n",
              "1  72  121     1\n",
              "2  70  119     1\n",
              "3  70  119     1\n",
              "4  69  118     1"
            ],
            "text/html": [
              "\n",
              "  <div id=\"df-1b81e460-8136-4d0d-91a2-66f40df0bdda\">\n",
              "    <div class=\"colab-df-container\">\n",
              "      <div>\n",
              "<style scoped>\n",
              "    .dataframe tbody tr th:only-of-type {\n",
              "        vertical-align: middle;\n",
              "    }\n",
              "\n",
              "    .dataframe tbody tr th {\n",
              "        vertical-align: top;\n",
              "    }\n",
              "\n",
              "    .dataframe thead th {\n",
              "        text-align: right;\n",
              "    }\n",
              "</style>\n",
              "<table border=\"1\" class=\"dataframe\">\n",
              "  <thead>\n",
              "    <tr style=\"text-align: right;\">\n",
              "      <th></th>\n",
              "      <th>B</th>\n",
              "      <th>R</th>\n",
              "      <th>Piel</th>\n",
              "    </tr>\n",
              "  </thead>\n",
              "  <tbody>\n",
              "    <tr>\n",
              "      <th>0</th>\n",
              "      <td>73</td>\n",
              "      <td>122</td>\n",
              "      <td>1</td>\n",
              "    </tr>\n",
              "    <tr>\n",
              "      <th>1</th>\n",
              "      <td>72</td>\n",
              "      <td>121</td>\n",
              "      <td>1</td>\n",
              "    </tr>\n",
              "    <tr>\n",
              "      <th>2</th>\n",
              "      <td>70</td>\n",
              "      <td>119</td>\n",
              "      <td>1</td>\n",
              "    </tr>\n",
              "    <tr>\n",
              "      <th>3</th>\n",
              "      <td>70</td>\n",
              "      <td>119</td>\n",
              "      <td>1</td>\n",
              "    </tr>\n",
              "    <tr>\n",
              "      <th>4</th>\n",
              "      <td>69</td>\n",
              "      <td>118</td>\n",
              "      <td>1</td>\n",
              "    </tr>\n",
              "  </tbody>\n",
              "</table>\n",
              "</div>\n",
              "      <button class=\"colab-df-convert\" onclick=\"convertToInteractive('df-1b81e460-8136-4d0d-91a2-66f40df0bdda')\"\n",
              "              title=\"Convert this dataframe to an interactive table.\"\n",
              "              style=\"display:none;\">\n",
              "        \n",
              "  <svg xmlns=\"http://www.w3.org/2000/svg\" height=\"24px\"viewBox=\"0 0 24 24\"\n",
              "       width=\"24px\">\n",
              "    <path d=\"M0 0h24v24H0V0z\" fill=\"none\"/>\n",
              "    <path d=\"M18.56 5.44l.94 2.06.94-2.06 2.06-.94-2.06-.94-.94-2.06-.94 2.06-2.06.94zm-11 1L8.5 8.5l.94-2.06 2.06-.94-2.06-.94L8.5 2.5l-.94 2.06-2.06.94zm10 10l.94 2.06.94-2.06 2.06-.94-2.06-.94-.94-2.06-.94 2.06-2.06.94z\"/><path d=\"M17.41 7.96l-1.37-1.37c-.4-.4-.92-.59-1.43-.59-.52 0-1.04.2-1.43.59L10.3 9.45l-7.72 7.72c-.78.78-.78 2.05 0 2.83L4 21.41c.39.39.9.59 1.41.59.51 0 1.02-.2 1.41-.59l7.78-7.78 2.81-2.81c.8-.78.8-2.07 0-2.86zM5.41 20L4 18.59l7.72-7.72 1.47 1.35L5.41 20z\"/>\n",
              "  </svg>\n",
              "      </button>\n",
              "      \n",
              "  <style>\n",
              "    .colab-df-container {\n",
              "      display:flex;\n",
              "      flex-wrap:wrap;\n",
              "      gap: 12px;\n",
              "    }\n",
              "\n",
              "    .colab-df-convert {\n",
              "      background-color: #E8F0FE;\n",
              "      border: none;\n",
              "      border-radius: 50%;\n",
              "      cursor: pointer;\n",
              "      display: none;\n",
              "      fill: #1967D2;\n",
              "      height: 32px;\n",
              "      padding: 0 0 0 0;\n",
              "      width: 32px;\n",
              "    }\n",
              "\n",
              "    .colab-df-convert:hover {\n",
              "      background-color: #E2EBFA;\n",
              "      box-shadow: 0px 1px 2px rgba(60, 64, 67, 0.3), 0px 1px 3px 1px rgba(60, 64, 67, 0.15);\n",
              "      fill: #174EA6;\n",
              "    }\n",
              "\n",
              "    [theme=dark] .colab-df-convert {\n",
              "      background-color: #3B4455;\n",
              "      fill: #D2E3FC;\n",
              "    }\n",
              "\n",
              "    [theme=dark] .colab-df-convert:hover {\n",
              "      background-color: #434B5C;\n",
              "      box-shadow: 0px 1px 3px 1px rgba(0, 0, 0, 0.15);\n",
              "      filter: drop-shadow(0px 1px 2px rgba(0, 0, 0, 0.3));\n",
              "      fill: #FFFFFF;\n",
              "    }\n",
              "  </style>\n",
              "\n",
              "      <script>\n",
              "        const buttonEl =\n",
              "          document.querySelector('#df-1b81e460-8136-4d0d-91a2-66f40df0bdda button.colab-df-convert');\n",
              "        buttonEl.style.display =\n",
              "          google.colab.kernel.accessAllowed ? 'block' : 'none';\n",
              "\n",
              "        async function convertToInteractive(key) {\n",
              "          const element = document.querySelector('#df-1b81e460-8136-4d0d-91a2-66f40df0bdda');\n",
              "          const dataTable =\n",
              "            await google.colab.kernel.invokeFunction('convertToInteractive',\n",
              "                                                     [key], {});\n",
              "          if (!dataTable) return;\n",
              "\n",
              "          const docLinkHtml = 'Like what you see? Visit the ' +\n",
              "            '<a target=\"_blank\" href=https://colab.research.google.com/notebooks/data_table.ipynb>data table notebook</a>'\n",
              "            + ' to learn more about interactive tables.';\n",
              "          element.innerHTML = '';\n",
              "          dataTable['output_type'] = 'display_data';\n",
              "          await google.colab.output.renderOutput(dataTable, element);\n",
              "          const docLink = document.createElement('div');\n",
              "          docLink.innerHTML = docLinkHtml;\n",
              "          element.appendChild(docLink);\n",
              "        }\n",
              "      </script>\n",
              "    </div>\n",
              "  </div>\n",
              "  "
            ]
          },
          "metadata": {},
          "execution_count": 51
        }
      ]
    },
    {
      "cell_type": "markdown",
      "source": [
        "2. Balancear las clases eliminando registros de la clase mayoritaria."
      ],
      "metadata": {
        "id": "vhuabFcsbPb0"
      }
    },
    {
      "cell_type": "code",
      "metadata": {
        "id": "tzucQl0-Z_HP",
        "colab": {
          "base_uri": "https://localhost:8080/",
          "height": 455
        },
        "outputId": "cbe7b425-f3a2-46b4-c37f-cd9633b15fdb"
      },
      "source": [
        "# Se hace balanceo de clases eliminando ejemplos de la clase mayoritaria\n",
        "g = data.groupby('Piel')\n",
        "dataBal = pd.DataFrame(g.apply(lambda x: x.sample(g.size().min()).reset_index(drop=True)))\n",
        "dataBal"
      ],
      "execution_count": null,
      "outputs": [
        {
          "output_type": "execute_result",
          "data": {
            "text/plain": [
              "              B    R  Piel\n",
              "Piel                      \n",
              "1    0       84  132     1\n",
              "     1       61  190     1\n",
              "     2       96  220     1\n",
              "     3      107  189     1\n",
              "     4      126  218     1\n",
              "...         ...  ...   ...\n",
              "2    50853   54   22     2\n",
              "     50854  144   87     2\n",
              "     50855   55   26     2\n",
              "     50856   72   28     2\n",
              "     50857  143  103     2\n",
              "\n",
              "[101716 rows x 3 columns]"
            ],
            "text/html": [
              "\n",
              "  <div id=\"df-d7fc638f-efb8-45c8-ab30-7ec19d55db41\">\n",
              "    <div class=\"colab-df-container\">\n",
              "      <div>\n",
              "<style scoped>\n",
              "    .dataframe tbody tr th:only-of-type {\n",
              "        vertical-align: middle;\n",
              "    }\n",
              "\n",
              "    .dataframe tbody tr th {\n",
              "        vertical-align: top;\n",
              "    }\n",
              "\n",
              "    .dataframe thead th {\n",
              "        text-align: right;\n",
              "    }\n",
              "</style>\n",
              "<table border=\"1\" class=\"dataframe\">\n",
              "  <thead>\n",
              "    <tr style=\"text-align: right;\">\n",
              "      <th></th>\n",
              "      <th></th>\n",
              "      <th>B</th>\n",
              "      <th>R</th>\n",
              "      <th>Piel</th>\n",
              "    </tr>\n",
              "    <tr>\n",
              "      <th>Piel</th>\n",
              "      <th></th>\n",
              "      <th></th>\n",
              "      <th></th>\n",
              "      <th></th>\n",
              "    </tr>\n",
              "  </thead>\n",
              "  <tbody>\n",
              "    <tr>\n",
              "      <th rowspan=\"5\" valign=\"top\">1</th>\n",
              "      <th>0</th>\n",
              "      <td>84</td>\n",
              "      <td>132</td>\n",
              "      <td>1</td>\n",
              "    </tr>\n",
              "    <tr>\n",
              "      <th>1</th>\n",
              "      <td>61</td>\n",
              "      <td>190</td>\n",
              "      <td>1</td>\n",
              "    </tr>\n",
              "    <tr>\n",
              "      <th>2</th>\n",
              "      <td>96</td>\n",
              "      <td>220</td>\n",
              "      <td>1</td>\n",
              "    </tr>\n",
              "    <tr>\n",
              "      <th>3</th>\n",
              "      <td>107</td>\n",
              "      <td>189</td>\n",
              "      <td>1</td>\n",
              "    </tr>\n",
              "    <tr>\n",
              "      <th>4</th>\n",
              "      <td>126</td>\n",
              "      <td>218</td>\n",
              "      <td>1</td>\n",
              "    </tr>\n",
              "    <tr>\n",
              "      <th>...</th>\n",
              "      <th>...</th>\n",
              "      <td>...</td>\n",
              "      <td>...</td>\n",
              "      <td>...</td>\n",
              "    </tr>\n",
              "    <tr>\n",
              "      <th rowspan=\"5\" valign=\"top\">2</th>\n",
              "      <th>50853</th>\n",
              "      <td>54</td>\n",
              "      <td>22</td>\n",
              "      <td>2</td>\n",
              "    </tr>\n",
              "    <tr>\n",
              "      <th>50854</th>\n",
              "      <td>144</td>\n",
              "      <td>87</td>\n",
              "      <td>2</td>\n",
              "    </tr>\n",
              "    <tr>\n",
              "      <th>50855</th>\n",
              "      <td>55</td>\n",
              "      <td>26</td>\n",
              "      <td>2</td>\n",
              "    </tr>\n",
              "    <tr>\n",
              "      <th>50856</th>\n",
              "      <td>72</td>\n",
              "      <td>28</td>\n",
              "      <td>2</td>\n",
              "    </tr>\n",
              "    <tr>\n",
              "      <th>50857</th>\n",
              "      <td>143</td>\n",
              "      <td>103</td>\n",
              "      <td>2</td>\n",
              "    </tr>\n",
              "  </tbody>\n",
              "</table>\n",
              "<p>101716 rows × 3 columns</p>\n",
              "</div>\n",
              "      <button class=\"colab-df-convert\" onclick=\"convertToInteractive('df-d7fc638f-efb8-45c8-ab30-7ec19d55db41')\"\n",
              "              title=\"Convert this dataframe to an interactive table.\"\n",
              "              style=\"display:none;\">\n",
              "        \n",
              "  <svg xmlns=\"http://www.w3.org/2000/svg\" height=\"24px\"viewBox=\"0 0 24 24\"\n",
              "       width=\"24px\">\n",
              "    <path d=\"M0 0h24v24H0V0z\" fill=\"none\"/>\n",
              "    <path d=\"M18.56 5.44l.94 2.06.94-2.06 2.06-.94-2.06-.94-.94-2.06-.94 2.06-2.06.94zm-11 1L8.5 8.5l.94-2.06 2.06-.94-2.06-.94L8.5 2.5l-.94 2.06-2.06.94zm10 10l.94 2.06.94-2.06 2.06-.94-2.06-.94-.94-2.06-.94 2.06-2.06.94z\"/><path d=\"M17.41 7.96l-1.37-1.37c-.4-.4-.92-.59-1.43-.59-.52 0-1.04.2-1.43.59L10.3 9.45l-7.72 7.72c-.78.78-.78 2.05 0 2.83L4 21.41c.39.39.9.59 1.41.59.51 0 1.02-.2 1.41-.59l7.78-7.78 2.81-2.81c.8-.78.8-2.07 0-2.86zM5.41 20L4 18.59l7.72-7.72 1.47 1.35L5.41 20z\"/>\n",
              "  </svg>\n",
              "      </button>\n",
              "      \n",
              "  <style>\n",
              "    .colab-df-container {\n",
              "      display:flex;\n",
              "      flex-wrap:wrap;\n",
              "      gap: 12px;\n",
              "    }\n",
              "\n",
              "    .colab-df-convert {\n",
              "      background-color: #E8F0FE;\n",
              "      border: none;\n",
              "      border-radius: 50%;\n",
              "      cursor: pointer;\n",
              "      display: none;\n",
              "      fill: #1967D2;\n",
              "      height: 32px;\n",
              "      padding: 0 0 0 0;\n",
              "      width: 32px;\n",
              "    }\n",
              "\n",
              "    .colab-df-convert:hover {\n",
              "      background-color: #E2EBFA;\n",
              "      box-shadow: 0px 1px 2px rgba(60, 64, 67, 0.3), 0px 1px 3px 1px rgba(60, 64, 67, 0.15);\n",
              "      fill: #174EA6;\n",
              "    }\n",
              "\n",
              "    [theme=dark] .colab-df-convert {\n",
              "      background-color: #3B4455;\n",
              "      fill: #D2E3FC;\n",
              "    }\n",
              "\n",
              "    [theme=dark] .colab-df-convert:hover {\n",
              "      background-color: #434B5C;\n",
              "      box-shadow: 0px 1px 3px 1px rgba(0, 0, 0, 0.15);\n",
              "      filter: drop-shadow(0px 1px 2px rgba(0, 0, 0, 0.3));\n",
              "      fill: #FFFFFF;\n",
              "    }\n",
              "  </style>\n",
              "\n",
              "      <script>\n",
              "        const buttonEl =\n",
              "          document.querySelector('#df-d7fc638f-efb8-45c8-ab30-7ec19d55db41 button.colab-df-convert');\n",
              "        buttonEl.style.display =\n",
              "          google.colab.kernel.accessAllowed ? 'block' : 'none';\n",
              "\n",
              "        async function convertToInteractive(key) {\n",
              "          const element = document.querySelector('#df-d7fc638f-efb8-45c8-ab30-7ec19d55db41');\n",
              "          const dataTable =\n",
              "            await google.colab.kernel.invokeFunction('convertToInteractive',\n",
              "                                                     [key], {});\n",
              "          if (!dataTable) return;\n",
              "\n",
              "          const docLinkHtml = 'Like what you see? Visit the ' +\n",
              "            '<a target=\"_blank\" href=https://colab.research.google.com/notebooks/data_table.ipynb>data table notebook</a>'\n",
              "            + ' to learn more about interactive tables.';\n",
              "          element.innerHTML = '';\n",
              "          dataTable['output_type'] = 'display_data';\n",
              "          await google.colab.output.renderOutput(dataTable, element);\n",
              "          const docLink = document.createElement('div');\n",
              "          docLink.innerHTML = docLinkHtml;\n",
              "          element.appendChild(docLink);\n",
              "        }\n",
              "      </script>\n",
              "    </div>\n",
              "  </div>\n",
              "  "
            ]
          },
          "metadata": {},
          "execution_count": 52
        }
      ]
    },
    {
      "cell_type": "code",
      "metadata": {
        "id": "W6yEYRccZ_HQ",
        "colab": {
          "base_uri": "https://localhost:8080/"
        },
        "outputId": "0d1cf651-9f30-40d2-f511-bfe4632e62ef"
      },
      "source": [
        "# Se verifica que haya quedado el mismo número de registros por cada clase\n",
        "print(dataBal['Piel'].value_counts())"
      ],
      "execution_count": null,
      "outputs": [
        {
          "output_type": "stream",
          "name": "stdout",
          "text": [
            "1    50858\n",
            "2    50858\n",
            "Name: Piel, dtype: int64\n"
          ]
        }
      ]
    },
    {
      "cell_type": "code",
      "source": [
        "#Cual es el tipo de los atributos?\n",
        "dataBal.dtypes"
      ],
      "metadata": {
        "colab": {
          "base_uri": "https://localhost:8080/"
        },
        "id": "HVGWPbmrX-ke",
        "outputId": "4e36bf19-5456-4569-eb8c-5ade9b2704d0"
      },
      "execution_count": null,
      "outputs": [
        {
          "output_type": "execute_result",
          "data": {
            "text/plain": [
              "B       int64\n",
              "R       int64\n",
              "Piel    int64\n",
              "dtype: object"
            ]
          },
          "metadata": {},
          "execution_count": 54
        }
      ]
    },
    {
      "cell_type": "markdown",
      "metadata": {
        "id": "J0k2r-I8lt0M"
      },
      "source": [
        "## Etapa 3: Modelado\n",
        "En esta etapa se van a utilizar los datos para realizar aprendizaje del atributo C a partir de los valores de los demás atributos. Las actividades a realizar son:\n",
        "1.   Dividir el conjunto de datos en conjuntos de entrenamiento y test.\n",
        "2.   Realizar el entrenamiento del modelo de regresión logística utilizando para ello el conjunto de entrenamiento.\n",
        "3.   Aplicar el modelo construido a los datos del conjunto de test.\n",
        "4.   Cálculo de una métrica de desempeño para evaluar la calidad del modelo en sus prediciones sobre el conjunto de test."
      ]
    },
    {
      "cell_type": "code",
      "metadata": {
        "id": "YSk5R_XwZ_HQ",
        "colab": {
          "base_uri": "https://localhost:8080/"
        },
        "outputId": "b4eea0cc-ac24-422d-b389-9c4a5756c741"
      },
      "source": [
        "# Dividir el conjunto de datos en conjuntos de entrenamiento y test\n",
        "\n",
        "from sklearn.model_selection import train_test_split\n",
        "\n",
        "\n",
        "X_train, X_test, y_train, y_test = train_test_split(dataBal.drop('Piel', axis=1), dataBal.Piel, test_size=0.30)\n",
        "print (X_train.shape, y_train.shape)\n",
        "print (X_test.shape, y_test.shape)"
      ],
      "execution_count": null,
      "outputs": [
        {
          "output_type": "stream",
          "name": "stdout",
          "text": [
            "(71201, 2) (71201,)\n",
            "(30515, 2) (30515,)\n"
          ]
        }
      ]
    },
    {
      "cell_type": "code",
      "metadata": {
        "id": "4Y9zk4PTZ_HQ",
        "colab": {
          "base_uri": "https://localhost:8080/",
          "height": 75
        },
        "outputId": "f2283e3b-53de-4b92-e3d3-92be4726605e"
      },
      "source": [
        "# Entrenamiento del modelo de clasificación por regresión logística\n",
        "from sklearn.linear_model import LogisticRegression\n",
        "from sklearn.metrics import classification_report\n",
        "\n",
        "logisticRegr = LogisticRegression(solver=\"lbfgs\", max_iter=500, tol=0.01)\n",
        "logisticRegr.fit(X_train, y_train)\n"
      ],
      "execution_count": null,
      "outputs": [
        {
          "output_type": "execute_result",
          "data": {
            "text/plain": [
              "LogisticRegression(max_iter=500, tol=0.01)"
            ],
            "text/html": [
              "<style>#sk-container-id-2 {color: black;background-color: white;}#sk-container-id-2 pre{padding: 0;}#sk-container-id-2 div.sk-toggleable {background-color: white;}#sk-container-id-2 label.sk-toggleable__label {cursor: pointer;display: block;width: 100%;margin-bottom: 0;padding: 0.3em;box-sizing: border-box;text-align: center;}#sk-container-id-2 label.sk-toggleable__label-arrow:before {content: \"▸\";float: left;margin-right: 0.25em;color: #696969;}#sk-container-id-2 label.sk-toggleable__label-arrow:hover:before {color: black;}#sk-container-id-2 div.sk-estimator:hover label.sk-toggleable__label-arrow:before {color: black;}#sk-container-id-2 div.sk-toggleable__content {max-height: 0;max-width: 0;overflow: hidden;text-align: left;background-color: #f0f8ff;}#sk-container-id-2 div.sk-toggleable__content pre {margin: 0.2em;color: black;border-radius: 0.25em;background-color: #f0f8ff;}#sk-container-id-2 input.sk-toggleable__control:checked~div.sk-toggleable__content {max-height: 200px;max-width: 100%;overflow: auto;}#sk-container-id-2 input.sk-toggleable__control:checked~label.sk-toggleable__label-arrow:before {content: \"▾\";}#sk-container-id-2 div.sk-estimator input.sk-toggleable__control:checked~label.sk-toggleable__label {background-color: #d4ebff;}#sk-container-id-2 div.sk-label input.sk-toggleable__control:checked~label.sk-toggleable__label {background-color: #d4ebff;}#sk-container-id-2 input.sk-hidden--visually {border: 0;clip: rect(1px 1px 1px 1px);clip: rect(1px, 1px, 1px, 1px);height: 1px;margin: -1px;overflow: hidden;padding: 0;position: absolute;width: 1px;}#sk-container-id-2 div.sk-estimator {font-family: monospace;background-color: #f0f8ff;border: 1px dotted black;border-radius: 0.25em;box-sizing: border-box;margin-bottom: 0.5em;}#sk-container-id-2 div.sk-estimator:hover {background-color: #d4ebff;}#sk-container-id-2 div.sk-parallel-item::after {content: \"\";width: 100%;border-bottom: 1px solid gray;flex-grow: 1;}#sk-container-id-2 div.sk-label:hover label.sk-toggleable__label {background-color: #d4ebff;}#sk-container-id-2 div.sk-serial::before {content: \"\";position: absolute;border-left: 1px solid gray;box-sizing: border-box;top: 0;bottom: 0;left: 50%;z-index: 0;}#sk-container-id-2 div.sk-serial {display: flex;flex-direction: column;align-items: center;background-color: white;padding-right: 0.2em;padding-left: 0.2em;position: relative;}#sk-container-id-2 div.sk-item {position: relative;z-index: 1;}#sk-container-id-2 div.sk-parallel {display: flex;align-items: stretch;justify-content: center;background-color: white;position: relative;}#sk-container-id-2 div.sk-item::before, #sk-container-id-2 div.sk-parallel-item::before {content: \"\";position: absolute;border-left: 1px solid gray;box-sizing: border-box;top: 0;bottom: 0;left: 50%;z-index: -1;}#sk-container-id-2 div.sk-parallel-item {display: flex;flex-direction: column;z-index: 1;position: relative;background-color: white;}#sk-container-id-2 div.sk-parallel-item:first-child::after {align-self: flex-end;width: 50%;}#sk-container-id-2 div.sk-parallel-item:last-child::after {align-self: flex-start;width: 50%;}#sk-container-id-2 div.sk-parallel-item:only-child::after {width: 0;}#sk-container-id-2 div.sk-dashed-wrapped {border: 1px dashed gray;margin: 0 0.4em 0.5em 0.4em;box-sizing: border-box;padding-bottom: 0.4em;background-color: white;}#sk-container-id-2 div.sk-label label {font-family: monospace;font-weight: bold;display: inline-block;line-height: 1.2em;}#sk-container-id-2 div.sk-label-container {text-align: center;}#sk-container-id-2 div.sk-container {/* jupyter's `normalize.less` sets `[hidden] { display: none; }` but bootstrap.min.css set `[hidden] { display: none !important; }` so we also need the `!important` here to be able to override the default hidden behavior on the sphinx rendered scikit-learn.org. See: https://github.com/scikit-learn/scikit-learn/issues/21755 */display: inline-block !important;position: relative;}#sk-container-id-2 div.sk-text-repr-fallback {display: none;}</style><div id=\"sk-container-id-2\" class=\"sk-top-container\"><div class=\"sk-text-repr-fallback\"><pre>LogisticRegression(max_iter=500, tol=0.01)</pre><b>In a Jupyter environment, please rerun this cell to show the HTML representation or trust the notebook. <br />On GitHub, the HTML representation is unable to render, please try loading this page with nbviewer.org.</b></div><div class=\"sk-container\" hidden><div class=\"sk-item\"><div class=\"sk-estimator sk-toggleable\"><input class=\"sk-toggleable__control sk-hidden--visually\" id=\"sk-estimator-id-2\" type=\"checkbox\" checked><label for=\"sk-estimator-id-2\" class=\"sk-toggleable__label sk-toggleable__label-arrow\">LogisticRegression</label><div class=\"sk-toggleable__content\"><pre>LogisticRegression(max_iter=500, tol=0.01)</pre></div></div></div></div></div>"
            ]
          },
          "metadata": {},
          "execution_count": 56
        }
      ]
    },
    {
      "cell_type": "code",
      "metadata": {
        "id": "t1wY0UdAZ_HR",
        "colab": {
          "base_uri": "https://localhost:8080/"
        },
        "outputId": "0fc10115-a175-4a4f-d2a8-f70d953d7338"
      },
      "source": [
        "# Aplicación del modelo construido a los datos de test\n",
        "predictions = logisticRegr.predict(X_test)\n",
        "predictions"
      ],
      "execution_count": null,
      "outputs": [
        {
          "output_type": "execute_result",
          "data": {
            "text/plain": [
              "array([2, 1, 1, ..., 2, 1, 2])"
            ]
          },
          "metadata": {},
          "execution_count": 57
        }
      ]
    },
    {
      "cell_type": "code",
      "metadata": {
        "id": "bb7qTlrNZ_HR",
        "colab": {
          "base_uri": "https://localhost:8080/"
        },
        "outputId": "6a3490ee-70b2-4e91-c25d-e5a0723143a3"
      },
      "source": [
        "# Cálculo del accuracy para evaluar el desempeño del modelo sobre los datos de test\n",
        "from sklearn.metrics import accuracy_score\n",
        "\n",
        "accuracy_score(y_test, predictions)"
      ],
      "execution_count": null,
      "outputs": [
        {
          "output_type": "execute_result",
          "data": {
            "text/plain": [
              "0.9511060134360151"
            ]
          },
          "metadata": {},
          "execution_count": 58
        }
      ]
    },
    {
      "cell_type": "code",
      "source": [
        "#Evaluamos el modelo utilizando los conjuntos de prueba y calculamos las medidas de rendimiento solicitadas:\n",
        "y_pred = logisticRegr.predict(X_test)\n",
        "print(confusion_matrix(y_test, y_pred))\n",
        "print(classification_report(y_test, y_pred))"
      ],
      "metadata": {
        "colab": {
          "base_uri": "https://localhost:8080/"
        },
        "id": "ZggUTaSUSXVM",
        "outputId": "f321f80b-b812-41f7-ba32-062ba7841846"
      },
      "execution_count": null,
      "outputs": [
        {
          "output_type": "stream",
          "name": "stdout",
          "text": [
            "[[14908   305]\n",
            " [ 1187 14115]]\n",
            "              precision    recall  f1-score   support\n",
            "\n",
            "           1       0.93      0.98      0.95     15213\n",
            "           2       0.98      0.92      0.95     15302\n",
            "\n",
            "    accuracy                           0.95     30515\n",
            "   macro avg       0.95      0.95      0.95     30515\n",
            "weighted avg       0.95      0.95      0.95     30515\n",
            "\n"
          ]
        }
      ]
    },
    {
      "cell_type": "code",
      "source": [
        "#Generación de la matriz y metricas\n",
        "\n",
        "matc=confusion_matrix(y_test, predictions)\n",
        "\n",
        "print(metrics.classification_report(y_test,predictions, digits = 4))\n",
        "\n",
        "plot_confusion_matrix(conf_mat=matc, figsize=(9,9), colorbar=True, show_absolute=False, show_normed=True)\n",
        "#plot_confusion_matrix(conf_mat=matc, figsize=(9,9), show_absolute=False, show_normed=True, class_names=names)\n",
        "plt.show()"
      ],
      "metadata": {
        "colab": {
          "base_uri": "https://localhost:8080/",
          "height": 886
        },
        "id": "bbYAXz7rpETB",
        "outputId": "23305907-d6e3-42d8-d510-98d0a960ad8a"
      },
      "execution_count": null,
      "outputs": [
        {
          "output_type": "stream",
          "name": "stdout",
          "text": [
            "              precision    recall  f1-score   support\n",
            "\n",
            "           1     0.9263    0.9800    0.9523     15213\n",
            "           2     0.9788    0.9224    0.9498     15302\n",
            "\n",
            "    accuracy                         0.9511     30515\n",
            "   macro avg     0.9525    0.9512    0.9511     30515\n",
            "weighted avg     0.9526    0.9511    0.9511     30515\n",
            "\n"
          ]
        },
        {
          "output_type": "display_data",
          "data": {
            "text/plain": [
              "<Figure size 900x900 with 2 Axes>"
            ],
            "image/png": "[encoded data removed]"
          },
          "metadata": {}
        }
      ]
    },
    {
      "cell_type": "code",
      "source": [
        "#Exactitud\n",
        "exactitud = accuracy_score(y_test, predictions)\n",
        "print(exactitud)"
      ],
      "metadata": {
        "colab": {
          "base_uri": "https://localhost:8080/"
        },
        "id": "WHZdwYWitIbj",
        "outputId": "ae620e3d-77af-416a-cc58-f2f4133149ab"
      },
      "execution_count": null,
      "outputs": [
        {
          "output_type": "stream",
          "name": "stdout",
          "text": [
            "0.9511060134360151\n"
          ]
        }
      ]
    },
    {
      "cell_type": "code",
      "source": [
        "#Precision\n",
        "precision = precision_score(y_test, predictions)\n",
        "print(precision)"
      ],
      "metadata": {
        "colab": {
          "base_uri": "https://localhost:8080/"
        },
        "id": "RJ9UWM00uA27",
        "outputId": "382ac73e-e047-4259-ac89-3d7097d73cc7"
      },
      "execution_count": null,
      "outputs": [
        {
          "output_type": "stream",
          "name": "stdout",
          "text": [
            "0.9262503883193538\n"
          ]
        }
      ]
    },
    {
      "cell_type": "code",
      "source": [
        "#Sensibilidad\n",
        "sensibilidad = recall_score(y_test, predictions)\n",
        "print(sensibilidad)"
      ],
      "metadata": {
        "colab": {
          "base_uri": "https://localhost:8080/"
        },
        "id": "QRvnx5Tcuf9D",
        "outputId": "f004f420-e3c7-4f60-a153-760852be94ce"
      },
      "execution_count": null,
      "outputs": [
        {
          "output_type": "stream",
          "name": "stdout",
          "text": [
            "0.9799513573917045\n"
          ]
        }
      ]
    },
    {
      "cell_type": "code",
      "source": [
        "#F1\n",
        "puntaje = f1_score(y_test, predictions)\n",
        "print(puntaje)"
      ],
      "metadata": {
        "colab": {
          "base_uri": "https://localhost:8080/"
        },
        "id": "Zu1jVRqxu-_c",
        "outputId": "d4115e40-c900-4eb3-a004-cbe8f53036ad"
      },
      "execution_count": null,
      "outputs": [
        {
          "output_type": "stream",
          "name": "stdout",
          "text": [
            "0.9523444487032069\n"
          ]
        }
      ]
    },
    {
      "cell_type": "markdown",
      "source": [
        "# La evaluación a partir de \"N-folds validation\""
      ],
      "metadata": {
        "id": "MBVrA3EsPnTq"
      }
    },
    {
      "cell_type": "code",
      "source": [
        "from sklearn.model_selection import StratifiedKFold\n",
        "from sklearn.linear_model import LogisticRegression\n",
        "from sklearn.metrics import accuracy_score, precision_score, recall_score, f1_score, confusion_matrix\n",
        "\n",
        "# Definir los datos de entrada y salida\n",
        "X = dataBal.drop('Piel', axis=1)\n",
        "y = dataBal.Piel\n",
        "\n",
        "# Inicializar las métricas\n",
        "acc_scores = []\n",
        "prec_scores = []\n",
        "rec_scores = []\n",
        "f1_scores = []\n",
        "conf_matrices = []\n",
        "\n",
        "# Definir el modelo de regresión logística\n",
        "lr = LogisticRegression()\n",
        "\n",
        "# Definir el objeto de validación cruzada\n",
        "n_folds = 10\n",
        "skf = StratifiedKFold(n_splits=n_folds)\n",
        "\n",
        "# Iterar sobre los folds\n",
        "for train_index, test_index in skf.split(X, y):\n",
        "    # Separar los datos en train y test\n",
        "    X_train, X_test = X.iloc[train_index], X.iloc[test_index]\n",
        "    y_train, y_test = y.iloc[train_index], y.iloc[test_index]\n",
        "    \n",
        "    # Entrenar el modelo\n",
        "    lr.fit(X_train, y_train)\n",
        "    \n",
        "    # Evaluar el modelo en el conjunto de test\n",
        "    y_pred = lr.predict(X_test)\n",
        "    acc_scores.append(accuracy_score(y_test, y_pred))\n",
        "    prec_scores.append(precision_score(y_test, y_pred))\n",
        "    rec_scores.append(recall_score(y_test, y_pred))\n",
        "    f1_scores.append(f1_score(y_test, y_pred))\n",
        "    conf_matrices.append(confusion_matrix(y_test, y_pred))\n",
        "    \n",
        "# Imprimir las métricas promedio de todos los folds\n",
        "print(f\"Accuracy: {np.mean(acc_scores)}\")\n",
        "print(f\"Precision: {np.mean(prec_scores)}\")\n",
        "print(f\"Recall: {np.mean(rec_scores)}\")\n",
        "print(f\"F1-score: {np.mean(f1_scores)}\")\n",
        "\n",
        "# Imprimir la matriz de confusión promedio de todos los folds\n",
        "mean_conf_matrix = np.mean(conf_matrices, axis=0)\n",
        "print(f\"\\nMatriz de Confusión Promedio:\\n{mean_conf_matrix}\")\n"
      ],
      "metadata": {
        "colab": {
          "base_uri": "https://localhost:8080/"
        },
        "id": "eMzQpFBnXmJS",
        "outputId": "e9b54fff-51bc-4039-dfbb-9fbae3ae5a60"
      },
      "execution_count": null,
      "outputs": [
        {
          "output_type": "stream",
          "name": "stdout",
          "text": [
            "Accuracy: 0.9512662917512038\n",
            "Precision: 0.9262977781509152\n",
            "Recall: 0.980573293723569\n",
            "F1-score: 0.9526560625676627\n",
            "\n",
            "Matriz de Confusión Promedio:\n",
            "[[4987.    98.8]\n",
            " [ 396.9 4688.9]]\n"
          ]
        }
      ]
    },
    {
      "cell_type": "markdown",
      "source": [
        "# Validación de Submuestra aleatoria con 10 repeticiones y una partición de 70/30:"
      ],
      "metadata": {
        "id": "7JvKgaLDYN51"
      }
    },
    {
      "cell_type": "code",
      "source": [
        "from sklearn.model_selection import ShuffleSplit\n",
        "from sklearn.linear_model import LogisticRegression\n",
        "from sklearn.metrics import accuracy_score, confusion_matrix, classification_report\n",
        "\n",
        "# Definir los parámetros de validación cruzada\n",
        "test_size = 0.3\n",
        "n_splits = 10\n",
        "random_state = 42\n",
        "\n",
        "# Crear el objeto validación cruzada\n",
        "cv = ShuffleSplit(n_splits=n_splits, test_size=test_size, random_state=random_state)\n",
        "\n",
        "# Crear listas vacías para almacenar las métricas de evaluación\n",
        "acc_scores = []\n",
        "cm_list = []\n",
        "clf_reports = []\n",
        "\n",
        "# Realizar la validación cruzada\n",
        "for train_index, test_index in cv.split(dataBal):\n",
        "    \n",
        "    # Dividir los datos en entrenamiento y prueba\n",
        "    X_train, X_test = dataBal.iloc[train_index, :-1], dataBal.iloc[test_index, :-1]\n",
        "    y_train, y_test = dataBal.iloc[train_index, -1], dataBal.iloc[test_index, -1]\n",
        "\n",
        "    # Crear un modelo de regresión logística y entrenarlo\n",
        "    clf = LogisticRegression(random_state=random_state)\n",
        "    clf.fit(X_train, y_train)\n",
        "\n",
        "    # Predecir las etiquetas de la prueba\n",
        "    y_pred = clf.predict(X_test)\n",
        "\n",
        "    # Calcular la precisión y guardarla en la lista de precisión\n",
        "    acc = accuracy_score(y_test, y_pred)\n",
        "    acc_scores.append(acc)\n",
        "\n",
        "    # Calcular la matriz de confusión y guardarla en la lista de matrices de confusión\n",
        "    cm = confusion_matrix(y_test, y_pred)\n",
        "    cm_list.append(cm)\n",
        "\n",
        "    # Calcular el informe de clasificación y guardarlo en la lista de informes de clasificación\n",
        "    clf_report = classification_report(y_test, y_pred)\n",
        "    clf_reports.append(clf_report)\n",
        "\n",
        "# Calcular las métricas promedio de evaluación\n",
        "avg_acc = sum(acc_scores) / len(acc_scores)\n",
        "avg_cm = sum(cm_list) / len(cm_list)\n",
        "avg_clf_report = \"\\n\\n\".join(clf_reports)\n",
        "\n",
        "# Imprimir las métricas promedio de evaluación\n",
        "print(\"Average Accuracy:\", avg_acc)\n",
        "print(\"Average Confusion Matrix:\\n\", avg_cm)\n",
        "print(\"Average Classification Report:\\n\", avg_clf_report)\n"
      ],
      "metadata": {
        "id": "4yeexY9KYfdI",
        "outputId": "8ed3c6cb-d919-482f-979a-f0ffa41d7f25",
        "colab": {
          "base_uri": "https://localhost:8080/"
        }
      },
      "execution_count": null,
      "outputs": [
        {
          "output_type": "stream",
          "name": "stdout",
          "text": [
            "Average Accuracy: 0.9509650991315747\n",
            "Average Confusion Matrix:\n",
            " [[14984.9   312.1]\n",
            " [ 1184.2 14033.8]]\n",
            "Average Classification Report:\n",
            "               precision    recall  f1-score   support\n",
            "\n",
            "           1       0.93      0.98      0.95     15265\n",
            "           2       0.98      0.92      0.95     15250\n",
            "\n",
            "    accuracy                           0.95     30515\n",
            "   macro avg       0.95      0.95      0.95     30515\n",
            "weighted avg       0.95      0.95      0.95     30515\n",
            "\n",
            "\n",
            "              precision    recall  f1-score   support\n",
            "\n",
            "           1       0.92      0.99      0.95     15205\n",
            "           2       0.99      0.92      0.95     15310\n",
            "\n",
            "    accuracy                           0.95     30515\n",
            "   macro avg       0.95      0.95      0.95     30515\n",
            "weighted avg       0.95      0.95      0.95     30515\n",
            "\n",
            "\n",
            "              precision    recall  f1-score   support\n",
            "\n",
            "           1       0.93      0.98      0.95     15312\n",
            "           2       0.98      0.92      0.95     15203\n",
            "\n",
            "    accuracy                           0.95     30515\n",
            "   macro avg       0.95      0.95      0.95     30515\n",
            "weighted avg       0.95      0.95      0.95     30515\n",
            "\n",
            "\n",
            "              precision    recall  f1-score   support\n",
            "\n",
            "           1       0.93      0.98      0.95     15247\n",
            "           2       0.98      0.92      0.95     15268\n",
            "\n",
            "    accuracy                           0.95     30515\n",
            "   macro avg       0.95      0.95      0.95     30515\n",
            "weighted avg       0.95      0.95      0.95     30515\n",
            "\n",
            "\n",
            "              precision    recall  f1-score   support\n",
            "\n",
            "           1       0.93      0.98      0.95     15498\n",
            "           2       0.98      0.92      0.95     15017\n",
            "\n",
            "    accuracy                           0.95     30515\n",
            "   macro avg       0.95      0.95      0.95     30515\n",
            "weighted avg       0.95      0.95      0.95     30515\n",
            "\n",
            "\n",
            "              precision    recall  f1-score   support\n",
            "\n",
            "           1       0.93      0.98      0.95     15361\n",
            "           2       0.97      0.92      0.95     15154\n",
            "\n",
            "    accuracy                           0.95     30515\n",
            "   macro avg       0.95      0.95      0.95     30515\n",
            "weighted avg       0.95      0.95      0.95     30515\n",
            "\n",
            "\n",
            "              precision    recall  f1-score   support\n",
            "\n",
            "           1       0.93      0.97      0.95     15230\n",
            "           2       0.97      0.92      0.95     15285\n",
            "\n",
            "    accuracy                           0.95     30515\n",
            "   macro avg       0.95      0.95      0.95     30515\n",
            "weighted avg       0.95      0.95      0.95     30515\n",
            "\n",
            "\n",
            "              precision    recall  f1-score   support\n",
            "\n",
            "           1       0.93      0.98      0.95     15249\n",
            "           2       0.98      0.92      0.95     15266\n",
            "\n",
            "    accuracy                           0.95     30515\n",
            "   macro avg       0.95      0.95      0.95     30515\n",
            "weighted avg       0.95      0.95      0.95     30515\n",
            "\n",
            "\n",
            "              precision    recall  f1-score   support\n",
            "\n",
            "           1       0.93      0.98      0.95     15298\n",
            "           2       0.98      0.92      0.95     15217\n",
            "\n",
            "    accuracy                           0.95     30515\n",
            "   macro avg       0.95      0.95      0.95     30515\n",
            "weighted avg       0.95      0.95      0.95     30515\n",
            "\n",
            "\n",
            "              precision    recall  f1-score   support\n",
            "\n",
            "           1       0.93      0.98      0.95     15305\n",
            "           2       0.98      0.92      0.95     15210\n",
            "\n",
            "    accuracy                           0.95     30515\n",
            "   macro avg       0.95      0.95      0.95     30515\n",
            "weighted avg       0.95      0.95      0.95     30515\n",
            "\n"
          ]
        }
      ]
    },
    {
      "cell_type": "markdown",
      "source": [
        "# Analisis de resultados"
      ],
      "metadata": {
        "id": "1uealrXmP411"
      }
    },
    {
      "cell_type": "markdown",
      "source": [
        "Primero, haremos un pequeño resumen de los resultados obtenidos en las métricas al momento de aplicar una regresión logística:\n",
        "\n",
        "- **accuracy_score:** 0.9511060134360151\n",
        "- **precision_score:** 0.9262503883193538\n",
        "- **recall_score:** 0.9799513573917045\n",
        "- **f1_score:** 0.9523444487032069\n",
        "\n",
        "Respecto a lo anterior podemos conjeturar que realmente el modelo tiene resultados bastante aceptables dado que presente unas métricas por encima del **92%**, incluso nos permite llegar a tener **recall** de **98%**.\n",
        "\n",
        "Por otra parte, al aplicar **N-Folds Validation** con una sola repetición encontramos lo siguiente:\n",
        "\n",
        "- **accuracy_score:** 0.9512662917512038\n",
        "- **precision_score:** 0.9262977781509152\n",
        "- **recall_score:** 0.980573293723569\n",
        "- **f1_score:** 0.9526560625676627\n",
        "\n",
        "No encontramos diferencias significativas entre la regresión logística y N-Folds Validation; sin embargo, \"hilando fino\" podríamos decir que N-Folds Validation mejora un poco la regresión logística.\n",
        "\n",
        "Adicionalmente, al momento de replicar la validación con una submuestra aleatoria de 10 repeticiones y una partición de 70/30, obtenemos que las métricas no muestran una diferencia significativa de la conclusión mostrada anteriormente. No obstante, es una conclusión que solo aplicaría, al menos en principio, para este ejercicio y esta base de datos."
      ],
      "metadata": {
        "id": "f4LOz9ysQ5zJ"
      }
    },
    {
      "cell_type": "code",
      "source": [],
      "metadata": {
        "id": "etEgqvFofyPn"
      },
      "execution_count": null,
      "outputs": []
    }
  ]
}